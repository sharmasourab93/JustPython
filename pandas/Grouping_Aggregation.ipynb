{
 "cells": [
  {
   "cell_type": "markdown",
   "id": "superb-cement",
   "metadata": {},
   "source": [
    "# Pandas: Grouping & Aggregation on Sample Survey Dataset"
   ]
  },
  {
   "cell_type": "markdown",
   "id": "native-nevada",
   "metadata": {},
   "source": [
    "---"
   ]
  },
  {
   "cell_type": "code",
   "execution_count": 1,
   "id": "short-interpretation",
   "metadata": {},
   "outputs": [],
   "source": [
    "import pandas as pd\n",
    "import numpy as np "
   ]
  },
  {
   "cell_type": "code",
   "execution_count": 2,
   "id": "composed-allen",
   "metadata": {},
   "outputs": [],
   "source": [
    "df = pd.read_csv('data/survey_results_public.csv', index_col='Respondent')\n",
    "schema_df = pd.read_csv('data/survey_results_schema.csv', index_col='Column')"
   ]
  },
  {
   "cell_type": "code",
   "execution_count": 3,
   "id": "anticipated-abraham",
   "metadata": {},
   "outputs": [],
   "source": [
    "df.rename(columns={'ConvertedComp': 'SalaryUSD'}, inplace=True)"
   ]
  },
  {
   "cell_type": "markdown",
   "id": "dirty-stewart",
   "metadata": {},
   "source": [
    "---"
   ]
  },
  {
   "cell_type": "markdown",
   "id": "narrow-chambers",
   "metadata": {},
   "source": [
    "### Aggregations In Pandas"
   ]
  },
  {
   "cell_type": "code",
   "execution_count": null,
   "id": "whole-detroit",
   "metadata": {},
   "outputs": [],
   "source": [
    "In order to understand Aggregations in Pandas, we undertake following actions: \n",
    "- Selecting SalaryUSD column \n",
    "- Applying Mean, Median\n",
    "- Description "
   ]
  },
  {
   "cell_type": "code",
   "execution_count": 4,
   "id": "integrated-american",
   "metadata": {},
   "outputs": [
    {
     "data": {
      "text/plain": [
       "Respondent\n",
       "1          NaN\n",
       "2          NaN\n",
       "3          NaN\n",
       "4          NaN\n",
       "5          NaN\n",
       "6          NaN\n",
       "7          NaN\n",
       "8     116000.0\n",
       "9          NaN\n",
       "10     32315.0\n",
       "11     40070.0\n",
       "12     14268.0\n",
       "13     38916.0\n",
       "14     66000.0\n",
       "15         NaN\n",
       "Name: SalaryUSD, dtype: float64"
      ]
     },
     "execution_count": 4,
     "metadata": {},
     "output_type": "execute_result"
    }
   ],
   "source": [
    "df['SalaryUSD'].head(15)"
   ]
  },
  {
   "cell_type": "code",
   "execution_count": 5,
   "id": "disciplinary-tradition",
   "metadata": {},
   "outputs": [
    {
     "data": {
      "text/plain": [
       "54049.0"
      ]
     },
     "execution_count": 5,
     "metadata": {},
     "output_type": "execute_result"
    }
   ],
   "source": [
    "df['SalaryUSD'].median()"
   ]
  },
  {
   "cell_type": "code",
   "execution_count": 6,
   "id": "sought-cannon",
   "metadata": {},
   "outputs": [
    {
     "data": {
      "text/plain": [
       "Age               29.0\n",
       "CompTotal      63000.0\n",
       "SalaryUSD      54049.0\n",
       "WorkWeekHrs       40.0\n",
       "dtype: float64"
      ]
     },
     "execution_count": 6,
     "metadata": {},
     "output_type": "execute_result"
    }
   ],
   "source": [
    "df.median()"
   ]
  },
  {
   "cell_type": "code",
   "execution_count": 7,
   "id": "corresponding-adult",
   "metadata": {},
   "outputs": [
    {
     "data": {
      "text/html": [
       "<div>\n",
       "<style scoped>\n",
       "    .dataframe tbody tr th:only-of-type {\n",
       "        vertical-align: middle;\n",
       "    }\n",
       "\n",
       "    .dataframe tbody tr th {\n",
       "        vertical-align: top;\n",
       "    }\n",
       "\n",
       "    .dataframe thead th {\n",
       "        text-align: right;\n",
       "    }\n",
       "</style>\n",
       "<table border=\"1\" class=\"dataframe\">\n",
       "  <thead>\n",
       "    <tr style=\"text-align: right;\">\n",
       "      <th></th>\n",
       "      <th>Age</th>\n",
       "      <th>CompTotal</th>\n",
       "      <th>SalaryUSD</th>\n",
       "      <th>WorkWeekHrs</th>\n",
       "    </tr>\n",
       "  </thead>\n",
       "  <tbody>\n",
       "    <tr>\n",
       "      <th>count</th>\n",
       "      <td>45446.000000</td>\n",
       "      <td>3.482600e+04</td>\n",
       "      <td>3.475600e+04</td>\n",
       "      <td>41151.000000</td>\n",
       "    </tr>\n",
       "    <tr>\n",
       "      <th>mean</th>\n",
       "      <td>30.834111</td>\n",
       "      <td>3.190464e+242</td>\n",
       "      <td>1.037561e+05</td>\n",
       "      <td>40.782174</td>\n",
       "    </tr>\n",
       "    <tr>\n",
       "      <th>std</th>\n",
       "      <td>9.585392</td>\n",
       "      <td>inf</td>\n",
       "      <td>2.268853e+05</td>\n",
       "      <td>17.816383</td>\n",
       "    </tr>\n",
       "    <tr>\n",
       "      <th>min</th>\n",
       "      <td>1.000000</td>\n",
       "      <td>0.000000e+00</td>\n",
       "      <td>0.000000e+00</td>\n",
       "      <td>1.000000</td>\n",
       "    </tr>\n",
       "    <tr>\n",
       "      <th>25%</th>\n",
       "      <td>24.000000</td>\n",
       "      <td>2.000000e+04</td>\n",
       "      <td>2.464800e+04</td>\n",
       "      <td>40.000000</td>\n",
       "    </tr>\n",
       "    <tr>\n",
       "      <th>50%</th>\n",
       "      <td>29.000000</td>\n",
       "      <td>6.300000e+04</td>\n",
       "      <td>5.404900e+04</td>\n",
       "      <td>40.000000</td>\n",
       "    </tr>\n",
       "    <tr>\n",
       "      <th>75%</th>\n",
       "      <td>35.000000</td>\n",
       "      <td>1.250000e+05</td>\n",
       "      <td>9.500000e+04</td>\n",
       "      <td>44.000000</td>\n",
       "    </tr>\n",
       "    <tr>\n",
       "      <th>max</th>\n",
       "      <td>279.000000</td>\n",
       "      <td>1.111111e+247</td>\n",
       "      <td>2.000000e+06</td>\n",
       "      <td>475.000000</td>\n",
       "    </tr>\n",
       "  </tbody>\n",
       "</table>\n",
       "</div>"
      ],
      "text/plain": [
       "                Age      CompTotal     SalaryUSD   WorkWeekHrs\n",
       "count  45446.000000   3.482600e+04  3.475600e+04  41151.000000\n",
       "mean      30.834111  3.190464e+242  1.037561e+05     40.782174\n",
       "std        9.585392            inf  2.268853e+05     17.816383\n",
       "min        1.000000   0.000000e+00  0.000000e+00      1.000000\n",
       "25%       24.000000   2.000000e+04  2.464800e+04     40.000000\n",
       "50%       29.000000   6.300000e+04  5.404900e+04     40.000000\n",
       "75%       35.000000   1.250000e+05  9.500000e+04     44.000000\n",
       "max      279.000000  1.111111e+247  2.000000e+06    475.000000"
      ]
     },
     "execution_count": 7,
     "metadata": {},
     "output_type": "execute_result"
    }
   ],
   "source": [
    "df.describe()"
   ]
  },
  {
   "cell_type": "code",
   "execution_count": 8,
   "id": "inside-taylor",
   "metadata": {},
   "outputs": [
    {
     "data": {
      "text/plain": [
       "34756"
      ]
     },
     "execution_count": 8,
     "metadata": {},
     "output_type": "execute_result"
    }
   ],
   "source": [
    "df['SalaryUSD'].count()"
   ]
  },
  {
   "cell_type": "markdown",
   "id": "ahead-beijing",
   "metadata": {},
   "source": [
    "---\n",
    "### Grouping In Pandas "
   ]
  },
  {
   "cell_type": "code",
   "execution_count": 9,
   "id": "polar-bouquet",
   "metadata": {},
   "outputs": [
    {
     "data": {
      "text/plain": [
       "Yes    50388\n",
       "No     14028\n",
       "Name: Hobbyist, dtype: int64"
      ]
     },
     "execution_count": 9,
     "metadata": {},
     "output_type": "execute_result"
    }
   ],
   "source": [
    "df['Hobbyist'].value_counts()"
   ]
  },
  {
   "cell_type": "markdown",
   "id": "hourly-separate",
   "metadata": {},
   "source": [
    "##### Grouping By String Search on Cell Value"
   ]
  },
  {
   "cell_type": "code",
   "execution_count": 11,
   "id": "valuable-rolling",
   "metadata": {},
   "outputs": [
    {
     "data": {
      "text/plain": [
       "True     29600\n",
       "False    24243\n",
       "Name: PlatformWorkedWith, dtype: int64"
      ]
     },
     "execution_count": 11,
     "metadata": {},
     "output_type": "execute_result"
    }
   ],
   "source": [
    "df['PlatformWorkedWith'].str.contains('Linux').value_counts()"
   ]
  },
  {
   "cell_type": "code",
   "execution_count": 12,
   "id": "invisible-compound",
   "metadata": {},
   "outputs": [
    {
     "data": {
      "text/plain": [
       "True     0.549746\n",
       "False    0.450254\n",
       "Name: PlatformWorkedWith, dtype: float64"
      ]
     },
     "execution_count": 12,
     "metadata": {},
     "output_type": "execute_result"
    }
   ],
   "source": [
    "df['PlatformWorkedWith'].str.contains('Linux').value_counts(normalize=True)"
   ]
  },
  {
   "cell_type": "markdown",
   "id": "retained-hygiene",
   "metadata": {},
   "source": [
    "Using Normalize, gives the value counts in Percentile"
   ]
  },
  {
   "cell_type": "markdown",
   "id": "optimum-custody",
   "metadata": {},
   "source": [
    "---"
   ]
  },
  {
   "cell_type": "code",
   "execution_count": 13,
   "id": "occupational-alliance",
   "metadata": {},
   "outputs": [
    {
     "data": {
      "text/plain": [
       "QuestionText    Which platforms have you done extensive develo...\n",
       "Name: PlatformWorkedWith, dtype: object"
      ]
     },
     "execution_count": 13,
     "metadata": {},
     "output_type": "execute_result"
    }
   ],
   "source": [
    "schema_df.loc['PlatformWorkedWith']"
   ]
  },
  {
   "cell_type": "code",
   "execution_count": 14,
   "id": "physical-north",
   "metadata": {},
   "outputs": [
    {
     "data": {
      "text/html": [
       "<div>\n",
       "<style scoped>\n",
       "    .dataframe tbody tr th:only-of-type {\n",
       "        vertical-align: middle;\n",
       "    }\n",
       "\n",
       "    .dataframe tbody tr th {\n",
       "        vertical-align: top;\n",
       "    }\n",
       "\n",
       "    .dataframe thead th {\n",
       "        text-align: right;\n",
       "    }\n",
       "</style>\n",
       "<table border=\"1\" class=\"dataframe\">\n",
       "  <thead>\n",
       "    <tr style=\"text-align: right;\">\n",
       "      <th></th>\n",
       "      <th>MainBranch</th>\n",
       "      <th>Hobbyist</th>\n",
       "      <th>Age</th>\n",
       "      <th>Age1stCode</th>\n",
       "      <th>CompFreq</th>\n",
       "      <th>CompTotal</th>\n",
       "      <th>SalaryUSD</th>\n",
       "      <th>Country</th>\n",
       "      <th>CurrencyDesc</th>\n",
       "      <th>CurrencySymbol</th>\n",
       "      <th>...</th>\n",
       "      <th>SurveyEase</th>\n",
       "      <th>SurveyLength</th>\n",
       "      <th>Trans</th>\n",
       "      <th>UndergradMajor</th>\n",
       "      <th>WebframeDesireNextYear</th>\n",
       "      <th>WebframeWorkedWith</th>\n",
       "      <th>WelcomeChange</th>\n",
       "      <th>WorkWeekHrs</th>\n",
       "      <th>YearsCode</th>\n",
       "      <th>YearsCodePro</th>\n",
       "    </tr>\n",
       "    <tr>\n",
       "      <th>Respondent</th>\n",
       "      <th></th>\n",
       "      <th></th>\n",
       "      <th></th>\n",
       "      <th></th>\n",
       "      <th></th>\n",
       "      <th></th>\n",
       "      <th></th>\n",
       "      <th></th>\n",
       "      <th></th>\n",
       "      <th></th>\n",
       "      <th></th>\n",
       "      <th></th>\n",
       "      <th></th>\n",
       "      <th></th>\n",
       "      <th></th>\n",
       "      <th></th>\n",
       "      <th></th>\n",
       "      <th></th>\n",
       "      <th></th>\n",
       "      <th></th>\n",
       "      <th></th>\n",
       "    </tr>\n",
       "  </thead>\n",
       "  <tbody>\n",
       "    <tr>\n",
       "      <th>7</th>\n",
       "      <td>I am a developer by profession</td>\n",
       "      <td>Yes</td>\n",
       "      <td>NaN</td>\n",
       "      <td>18</td>\n",
       "      <td>Monthly</td>\n",
       "      <td>NaN</td>\n",
       "      <td>NaN</td>\n",
       "      <td>India</td>\n",
       "      <td>United States dollar</td>\n",
       "      <td>USD</td>\n",
       "      <td>...</td>\n",
       "      <td>NaN</td>\n",
       "      <td>NaN</td>\n",
       "      <td>NaN</td>\n",
       "      <td>Computer science, computer engineering, or sof...</td>\n",
       "      <td>NaN</td>\n",
       "      <td>NaN</td>\n",
       "      <td>A lot more welcome now than last year</td>\n",
       "      <td>NaN</td>\n",
       "      <td>6</td>\n",
       "      <td>4</td>\n",
       "    </tr>\n",
       "    <tr>\n",
       "      <th>22</th>\n",
       "      <td>I am a developer by profession</td>\n",
       "      <td>Yes</td>\n",
       "      <td>NaN</td>\n",
       "      <td>18</td>\n",
       "      <td>Monthly</td>\n",
       "      <td>NaN</td>\n",
       "      <td>NaN</td>\n",
       "      <td>India</td>\n",
       "      <td>Indian rupee</td>\n",
       "      <td>INR</td>\n",
       "      <td>...</td>\n",
       "      <td>Easy</td>\n",
       "      <td>Appropriate in length</td>\n",
       "      <td>NaN</td>\n",
       "      <td>Computer science, computer engineering, or sof...</td>\n",
       "      <td>NaN</td>\n",
       "      <td>NaN</td>\n",
       "      <td>Just as welcome now as I felt last year</td>\n",
       "      <td>50.0</td>\n",
       "      <td>10</td>\n",
       "      <td>2</td>\n",
       "    </tr>\n",
       "    <tr>\n",
       "      <th>58</th>\n",
       "      <td>I am a developer by profession</td>\n",
       "      <td>Yes</td>\n",
       "      <td>NaN</td>\n",
       "      <td>22</td>\n",
       "      <td>NaN</td>\n",
       "      <td>NaN</td>\n",
       "      <td>NaN</td>\n",
       "      <td>India</td>\n",
       "      <td>Indian rupee</td>\n",
       "      <td>INR</td>\n",
       "      <td>...</td>\n",
       "      <td>Neither easy nor difficult</td>\n",
       "      <td>Too long</td>\n",
       "      <td>NaN</td>\n",
       "      <td>Web development or web design</td>\n",
       "      <td>Angular;Angular.js;ASP.NET;ASP.NET Core;jQuery</td>\n",
       "      <td>Angular;Angular.js;ASP.NET;ASP.NET Core;jQuery</td>\n",
       "      <td>NaN</td>\n",
       "      <td>NaN</td>\n",
       "      <td>NaN</td>\n",
       "      <td>NaN</td>\n",
       "    </tr>\n",
       "    <tr>\n",
       "      <th>63</th>\n",
       "      <td>I am a student who is learning to code</td>\n",
       "      <td>Yes</td>\n",
       "      <td>21.0</td>\n",
       "      <td>17</td>\n",
       "      <td>NaN</td>\n",
       "      <td>NaN</td>\n",
       "      <td>NaN</td>\n",
       "      <td>India</td>\n",
       "      <td>NaN</td>\n",
       "      <td>NaN</td>\n",
       "      <td>...</td>\n",
       "      <td>Easy</td>\n",
       "      <td>Appropriate in length</td>\n",
       "      <td>No</td>\n",
       "      <td>NaN</td>\n",
       "      <td>Angular.js;Django;jQuery;Laravel;Vue.js</td>\n",
       "      <td>NaN</td>\n",
       "      <td>Not applicable - I did not use Stack Overflow ...</td>\n",
       "      <td>NaN</td>\n",
       "      <td>4</td>\n",
       "      <td>NaN</td>\n",
       "    </tr>\n",
       "    <tr>\n",
       "      <th>149</th>\n",
       "      <td>I am a developer by profession</td>\n",
       "      <td>Yes</td>\n",
       "      <td>36.0</td>\n",
       "      <td>31</td>\n",
       "      <td>Yearly</td>\n",
       "      <td>21000000.0</td>\n",
       "      <td>293196.0</td>\n",
       "      <td>India</td>\n",
       "      <td>Indian rupee</td>\n",
       "      <td>INR</td>\n",
       "      <td>...</td>\n",
       "      <td>Neither easy nor difficult</td>\n",
       "      <td>Appropriate in length</td>\n",
       "      <td>No</td>\n",
       "      <td>Computer science, computer engineering, or sof...</td>\n",
       "      <td>NaN</td>\n",
       "      <td>NaN</td>\n",
       "      <td>Somewhat more welcome now than last year</td>\n",
       "      <td>70.0</td>\n",
       "      <td>5</td>\n",
       "      <td>3</td>\n",
       "    </tr>\n",
       "  </tbody>\n",
       "</table>\n",
       "<p>5 rows × 60 columns</p>\n",
       "</div>"
      ],
      "text/plain": [
       "                                        MainBranch Hobbyist   Age Age1stCode  \\\n",
       "Respondent                                                                     \n",
       "7                   I am a developer by profession      Yes   NaN         18   \n",
       "22                  I am a developer by profession      Yes   NaN         18   \n",
       "58                  I am a developer by profession      Yes   NaN         22   \n",
       "63          I am a student who is learning to code      Yes  21.0         17   \n",
       "149                 I am a developer by profession      Yes  36.0         31   \n",
       "\n",
       "           CompFreq   CompTotal  SalaryUSD Country          CurrencyDesc  \\\n",
       "Respondent                                                                 \n",
       "7           Monthly         NaN        NaN   India  United States dollar   \n",
       "22          Monthly         NaN        NaN   India          Indian rupee   \n",
       "58              NaN         NaN        NaN   India          Indian rupee   \n",
       "63              NaN         NaN        NaN   India                   NaN   \n",
       "149          Yearly  21000000.0   293196.0   India          Indian rupee   \n",
       "\n",
       "           CurrencySymbol  ...                  SurveyEase  \\\n",
       "Respondent                 ...                               \n",
       "7                     USD  ...                         NaN   \n",
       "22                    INR  ...                        Easy   \n",
       "58                    INR  ...  Neither easy nor difficult   \n",
       "63                    NaN  ...                        Easy   \n",
       "149                   INR  ...  Neither easy nor difficult   \n",
       "\n",
       "                     SurveyLength Trans  \\\n",
       "Respondent                                \n",
       "7                             NaN   NaN   \n",
       "22          Appropriate in length   NaN   \n",
       "58                       Too long   NaN   \n",
       "63          Appropriate in length    No   \n",
       "149         Appropriate in length    No   \n",
       "\n",
       "                                               UndergradMajor  \\\n",
       "Respondent                                                      \n",
       "7           Computer science, computer engineering, or sof...   \n",
       "22          Computer science, computer engineering, or sof...   \n",
       "58                              Web development or web design   \n",
       "63                                                        NaN   \n",
       "149         Computer science, computer engineering, or sof...   \n",
       "\n",
       "                                    WebframeDesireNextYear  \\\n",
       "Respondent                                                   \n",
       "7                                                      NaN   \n",
       "22                                                     NaN   \n",
       "58          Angular;Angular.js;ASP.NET;ASP.NET Core;jQuery   \n",
       "63                 Angular.js;Django;jQuery;Laravel;Vue.js   \n",
       "149                                                    NaN   \n",
       "\n",
       "                                        WebframeWorkedWith  \\\n",
       "Respondent                                                   \n",
       "7                                                      NaN   \n",
       "22                                                     NaN   \n",
       "58          Angular;Angular.js;ASP.NET;ASP.NET Core;jQuery   \n",
       "63                                                     NaN   \n",
       "149                                                    NaN   \n",
       "\n",
       "                                                WelcomeChange WorkWeekHrs  \\\n",
       "Respondent                                                                  \n",
       "7                       A lot more welcome now than last year         NaN   \n",
       "22                    Just as welcome now as I felt last year        50.0   \n",
       "58                                                        NaN         NaN   \n",
       "63          Not applicable - I did not use Stack Overflow ...         NaN   \n",
       "149                  Somewhat more welcome now than last year        70.0   \n",
       "\n",
       "           YearsCode YearsCodePro  \n",
       "Respondent                         \n",
       "7                  6            4  \n",
       "22                10            2  \n",
       "58               NaN          NaN  \n",
       "63                 4          NaN  \n",
       "149                5            3  \n",
       "\n",
       "[5 rows x 60 columns]"
      ]
     },
     "execution_count": 14,
     "metadata": {},
     "output_type": "execute_result"
    }
   ],
   "source": [
    "country_grp = df.groupby(['Country'])\n",
    "country_grp.get_group('India').head()"
   ]
  },
  {
   "cell_type": "code",
   "execution_count": 15,
   "id": "younger-siemens",
   "metadata": {},
   "outputs": [
    {
     "data": {
      "text/plain": [
       "SalaryUSD\n",
       "120000.0     322\n",
       "100000.0     292\n",
       "150000.0     268\n",
       "2000000.0    253\n",
       "110000.0     236\n",
       "            ... \n",
       "1788000.0      1\n",
       "1836000.0      1\n",
       "1848000.0      1\n",
       "1968000.0      1\n",
       "1980000.0      1\n",
       "Name: SalaryUSD, Length: 902, dtype: int64"
      ]
     },
     "execution_count": 15,
     "metadata": {},
     "output_type": "execute_result"
    }
   ],
   "source": [
    "country_grp['SalaryUSD'].value_counts().loc['United States']"
   ]
  },
  {
   "cell_type": "code",
   "execution_count": 16,
   "id": "continued-institution",
   "metadata": {},
   "outputs": [
    {
     "data": {
      "text/plain": [
       "62697.0"
      ]
     },
     "execution_count": 16,
     "metadata": {},
     "output_type": "execute_result"
    }
   ],
   "source": [
    "country_grp['SalaryUSD'].median().loc['Germany']"
   ]
  },
  {
   "cell_type": "code",
   "execution_count": 17,
   "id": "anticipated-logan",
   "metadata": {},
   "outputs": [
    {
     "data": {
      "text/plain": [
       "2670"
      ]
     },
     "execution_count": 17,
     "metadata": {},
     "output_type": "execute_result"
    }
   ],
   "source": [
    "filter_ = df['Country'] == 'India'\n",
    "df.loc[filter_]['LanguageWorkedWith'].str.contains('Python').sum()"
   ]
  },
  {
   "cell_type": "markdown",
   "id": "accepting-firmware",
   "metadata": {},
   "source": [
    "Using Sum to Aggregate Column Values"
   ]
  },
  {
   "cell_type": "code",
   "execution_count": 18,
   "id": "tutorial-broadcasting",
   "metadata": {},
   "outputs": [
    {
     "data": {
      "text/plain": [
       "Country\n",
       "Afghanistan                              11\n",
       "Albania                                  13\n",
       "Algeria                                  40\n",
       "Andorra                                   3\n",
       "Angola                                    1\n",
       "                                       ... \n",
       "Venezuela, Bolivarian Republic of...     29\n",
       "Viet Nam                                102\n",
       "Yemen                                     1\n",
       "Zambia                                    4\n",
       "Zimbabwe                                 13\n",
       "Name: LanguageWorkedWith, Length: 183, dtype: int64"
      ]
     },
     "execution_count": 18,
     "metadata": {},
     "output_type": "execute_result"
    }
   ],
   "source": [
    "country_grp['LanguageWorkedWith'].apply(lambda x: x.str.contains('Python').sum())"
   ]
  },
  {
   "cell_type": "markdown",
   "id": "configured-dance",
   "metadata": {},
   "source": [
    "---\n",
    "##### Problem \n",
    "\n",
    "What % of people from each country know Python?"
   ]
  },
  {
   "cell_type": "markdown",
   "id": "continued-heath",
   "metadata": {},
   "source": [
    "Sourab's Approach"
   ]
  },
  {
   "cell_type": "code",
   "execution_count": 20,
   "id": "extreme-frank",
   "metadata": {},
   "outputs": [],
   "source": [
    "country_group_by = df.groupby(['Country'])\n",
    "lambda_func = lambda x: x.str.contains('Python', na=False).sum()"
   ]
  },
  {
   "cell_type": "code",
   "execution_count": 21,
   "id": "desperate-theology",
   "metadata": {},
   "outputs": [
    {
     "data": {
      "text/plain": [
       "0     0.103825\n",
       "1     0.081967\n",
       "2     0.065574\n",
       "3     0.060109\n",
       "10    0.043716\n",
       "Name: LanguageWorkedWith, dtype: float64"
      ]
     },
     "execution_count": 21,
     "metadata": {},
     "output_type": "execute_result"
    }
   ],
   "source": [
    "grp_apply = country_group_by['LanguageWorkedWith'].apply(lambda_func)\n",
    "grp_apply.value_counts(normalize=True).head()"
   ]
  },
  {
   "cell_type": "markdown",
   "id": "complimentary-funds",
   "metadata": {},
   "source": [
    "Corey Schafer's Apprach "
   ]
  },
  {
   "cell_type": "code",
   "execution_count": 22,
   "id": "unknown-payment",
   "metadata": {},
   "outputs": [],
   "source": [
    "country_respondents = df['Country'].value_counts()\n",
    "country_uses_python = country_grp['LanguageWorkedWith'].apply(lambda x: x.str.contains('Python').sum())\n",
    "python_df = pd.concat([country_respondents, country_uses_python], axis='columns', sort=False)\n",
    "python_df.rename(columns={'LanguageWorkedWith':'Using Python', 'Country': \"Number Respondents\"}, inplace=True)"
   ]
  },
  {
   "cell_type": "code",
   "execution_count": 23,
   "id": "devoted-indication",
   "metadata": {},
   "outputs": [
    {
     "data": {
      "text/html": [
       "<div>\n",
       "<style scoped>\n",
       "    .dataframe tbody tr th:only-of-type {\n",
       "        vertical-align: middle;\n",
       "    }\n",
       "\n",
       "    .dataframe tbody tr th {\n",
       "        vertical-align: top;\n",
       "    }\n",
       "\n",
       "    .dataframe thead th {\n",
       "        text-align: right;\n",
       "    }\n",
       "</style>\n",
       "<table border=\"1\" class=\"dataframe\">\n",
       "  <thead>\n",
       "    <tr style=\"text-align: right;\">\n",
       "      <th></th>\n",
       "      <th>Number Respondents</th>\n",
       "      <th>Using Python</th>\n",
       "    </tr>\n",
       "  </thead>\n",
       "  <tbody>\n",
       "    <tr>\n",
       "      <th>United States</th>\n",
       "      <td>12469</td>\n",
       "      <td>5964</td>\n",
       "    </tr>\n",
       "    <tr>\n",
       "      <th>India</th>\n",
       "      <td>8403</td>\n",
       "      <td>2670</td>\n",
       "    </tr>\n",
       "    <tr>\n",
       "      <th>United Kingdom</th>\n",
       "      <td>3896</td>\n",
       "      <td>1621</td>\n",
       "    </tr>\n",
       "    <tr>\n",
       "      <th>Germany</th>\n",
       "      <td>3890</td>\n",
       "      <td>1712</td>\n",
       "    </tr>\n",
       "    <tr>\n",
       "      <th>Canada</th>\n",
       "      <td>2191</td>\n",
       "      <td>1011</td>\n",
       "    </tr>\n",
       "  </tbody>\n",
       "</table>\n",
       "</div>"
      ],
      "text/plain": [
       "                Number Respondents  Using Python\n",
       "United States                12469          5964\n",
       "India                         8403          2670\n",
       "United Kingdom                3896          1621\n",
       "Germany                       3890          1712\n",
       "Canada                        2191          1011"
      ]
     },
     "execution_count": 23,
     "metadata": {},
     "output_type": "execute_result"
    }
   ],
   "source": [
    "python_df.head()"
   ]
  },
  {
   "cell_type": "markdown",
   "id": "configured-nerve",
   "metadata": {},
   "source": [
    "---"
   ]
  },
  {
   "cell_type": "markdown",
   "id": "decimal-antarctica",
   "metadata": {},
   "source": [
    "### Operations & Sorting Cells\n"
   ]
  },
  {
   "cell_type": "code",
   "execution_count": 24,
   "id": "pressing-forum",
   "metadata": {},
   "outputs": [],
   "source": [
    "python_df['PctKnows'] = round((python_df['Using Python'] / python_df['Number Respondents']) * 100, 2)"
   ]
  },
  {
   "cell_type": "code",
   "execution_count": 25,
   "id": "southeast-engineer",
   "metadata": {},
   "outputs": [],
   "source": [
    "python_df.sort_values(by='PctKnows', ascending=False, inplace=True)"
   ]
  },
  {
   "cell_type": "code",
   "execution_count": 26,
   "id": "crazy-forth",
   "metadata": {},
   "outputs": [
    {
     "data": {
      "text/plain": [
       "Number Respondents    297.00\n",
       "Using Python          132.00\n",
       "PctKnows               44.44\n",
       "Name: Japan, dtype: float64"
      ]
     },
     "execution_count": 26,
     "metadata": {},
     "output_type": "execute_result"
    }
   ],
   "source": [
    "python_df.loc['Japan']"
   ]
  },
  {
   "cell_type": "markdown",
   "id": "scenic-annex",
   "metadata": {},
   "source": [
    "---"
   ]
  }
 ],
 "metadata": {
  "kernelspec": {
   "display_name": "Python 3",
   "language": "python",
   "name": "python3"
  },
  "language_info": {
   "codemirror_mode": {
    "name": "ipython",
    "version": 3
   },
   "file_extension": ".py",
   "mimetype": "text/x-python",
   "name": "python",
   "nbconvert_exporter": "python",
   "pygments_lexer": "ipython3",
   "version": "3.9.1"
  }
 },
 "nbformat": 4,
 "nbformat_minor": 5
}
